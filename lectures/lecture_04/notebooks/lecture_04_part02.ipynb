{
 "cells": [
  {
   "cell_type": "markdown",
   "metadata": {},
   "source": [
    "# Процессы"
   ]
  },
  {
   "cell_type": "code",
   "execution_count": 1,
   "metadata": {},
   "outputs": [],
   "source": [
    "import random\n",
    "import os\n",
    "import time\n",
    "import threading\n",
    "import multiprocessing\n",
    "import os"
   ]
  },
  {
   "cell_type": "code",
   "execution_count": 2,
   "metadata": {},
   "outputs": [],
   "source": [
    "# Типы задач\n",
    "def cpu_bound_task(n):\n",
    "    def fib(n):\n",
    "        if n == 0:\n",
    "            return 0\n",
    "        elif n == 1:\n",
    "            return 1\n",
    "        return fib(n-1) + fib(n-2)\n",
    "\n",
    "    print(f'{n} -> {fib(n)}')\n",
    "\n",
    "\n",
    "def io_bound_task(ind):\n",
    "    print(f'start task {ind}')\n",
    "    time.sleep(5)\n",
    "    print(f'finish task {ind}\\n', end='')"
   ]
  },
  {
   "cell_type": "code",
   "execution_count": 3,
   "metadata": {},
   "outputs": [
    {
     "name": "stdout",
     "output_type": "stream",
     "text": [
      "20 -> 6765\n",
      "15 -> 610\n",
      "10 -> 55\n",
      "25 -> 75025\n",
      "30 -> 832040\n",
      "31 -> 1346269\n",
      "32 -> 2178309\n",
      "33 -> 3524578\n",
      "34 -> 5702887\n",
      "35 -> 9227465\n",
      "36 -> 14930352\n",
      "CPU times: user 22.9 s, sys: 405 ms, total: 23.3 s\n",
      "Wall time: 23.7 s\n"
     ]
    }
   ],
   "source": [
    "%%time\n",
    "\n",
    "# CPU bound задача на потоках\n",
    "tasks = []\n",
    "\n",
    "for number in [36, 35, 34, 33, 32, 31, 30, 25, 20, 15, 10]:\n",
    "    task = threading.Thread(target=cpu_bound_task, args=(number,))\n",
    "    tasks.append(task)\n",
    "    task.start()\n",
    "\n",
    "for task in tasks:\n",
    "    task.join()"
   ]
  },
  {
   "cell_type": "code",
   "execution_count": 4,
   "metadata": {},
   "outputs": [
    {
     "name": "stdout",
     "output_type": "stream",
     "text": [
      "15 -> 610\n",
      "20 -> 6765\n",
      "10 -> 55\n",
      "25 -> 75025\n",
      "30 -> 832040\n",
      "31 -> 1346269\n",
      "32 -> 2178309\n",
      "33 -> 3524578\n",
      "34 -> 5702887\n",
      "35 -> 9227465\n",
      "36 -> 14930352\n",
      "CPU times: user 20.9 ms, sys: 37 ms, total: 57.9 ms\n",
      "Wall time: 15 s\n"
     ]
    }
   ],
   "source": [
    "%%time\n",
    "\n",
    "# CPU bound задача на процессах\n",
    "tasks = []\n",
    "\n",
    "for number in [36, 35, 34, 33, 32, 31, 30, 25, 20, 15, 10]:\n",
    "    task = multiprocessing.Process(target=cpu_bound_task, args=(number,))\n",
    "    tasks.append(task)\n",
    "    task.start()\n",
    "\n",
    "for task in tasks:\n",
    "    task.join()\n"
   ]
  },
  {
   "cell_type": "code",
   "execution_count": 5,
   "metadata": {},
   "outputs": [
    {
     "name": "stdout",
     "output_type": "stream",
     "text": [
      "start task 0\n",
      "start task 1\n",
      "start task 2\n",
      "start task 3\n",
      "start task 4\n",
      "start task 5\n",
      "start task 6\n",
      "start task 7\n",
      "start task 8\n",
      "start task 9\n",
      "finish task 0\n",
      "finish task 1\n",
      "finish task 2\n",
      "finish task 3\n",
      "finish task 4\n",
      "finish task 6\n",
      "finish task 8\n",
      "finish task 9\n",
      "finish task 7\n",
      "finish task 5\n",
      "CPU times: user 8.61 ms, sys: 6.21 ms, total: 14.8 ms\n",
      "Wall time: 5.01 s\n"
     ]
    }
   ],
   "source": [
    "%%time\n",
    "\n",
    "# IO bound задача на потоках\n",
    "tasks = []\n",
    "\n",
    "for ind in range(10):\n",
    "    task = threading.Thread(target=io_bound_task, args=(ind,))\n",
    "    tasks.append(task)\n",
    "    task.start()\n",
    "\n",
    "for task in tasks:\n",
    "    task.join()"
   ]
  },
  {
   "cell_type": "code",
   "execution_count": 6,
   "metadata": {},
   "outputs": [
    {
     "name": "stdout",
     "output_type": "stream",
     "text": [
      "start task 0\n",
      "start task 1\n",
      "start task 2\n",
      "start task 3\n",
      "start task 4\n",
      "start task 5\n",
      "start task 6\n",
      "start task 7\n",
      "start task 9\n",
      "start task 8\n",
      "finish task 0\n",
      "finish task 1\n",
      "finish task 2\n",
      "finish task 3\n",
      "finish task 4\n",
      "finish task 6\n",
      "finish task 5\n",
      "finish task 7\n",
      "finish task 8\n",
      "finish task 9\n",
      "CPU times: user 25.8 ms, sys: 47.2 ms, total: 73 ms\n",
      "Wall time: 5.1 s\n"
     ]
    }
   ],
   "source": [
    "%%time\n",
    "\n",
    "# IO bound задача на процессах\n",
    "tasks = []\n",
    "\n",
    "for ind in range(10):\n",
    "    task = multiprocessing.Process(target=io_bound_task, args=(ind,))\n",
    "    tasks.append(task)\n",
    "    task.start()\n",
    "\n",
    "for task in tasks:\n",
    "    task.join()"
   ]
  },
  {
   "cell_type": "code",
   "execution_count": 7,
   "metadata": {},
   "outputs": [
    {
     "name": "stdout",
     "output_type": "stream",
     "text": [
      "start task 0 with 34241\n",
      "start task 1 with 34242\n",
      "start task 3 with 34244\n",
      "start task 2 with 34243\n",
      "start task 6 with 34247\n",
      "start task 4 with 34245\n",
      "start task 5 with 34246\n",
      "start task 7 with 34248\n",
      "start task 8 with 34249\n",
      "start task 9 with 34250\n",
      "finish task 0\n",
      "finish task 1\n",
      "finish task 3\n",
      "finish task 2\n",
      "finish task 4\n",
      "finish task 6\n",
      "finish task 5\n",
      "finish task 7\n",
      "finish task 8\n",
      "finish task 9\n"
     ]
    }
   ],
   "source": [
    "# Получение идентификатора процесса\n",
    "def io_bound_task(ind):\n",
    "    print(f'start task {ind} with {os.getpid()}')\n",
    "    time.sleep(30)\n",
    "    print(f'finish task {ind}')\n",
    "    \n",
    "tasks = []\n",
    "\n",
    "for ind in range(10):\n",
    "    task = multiprocessing.Process(target=io_bound_task, args=(ind,))\n",
    "    tasks.append(task)\n",
    "    task.start()\n",
    "\n",
    "for task in tasks:\n",
    "    task.join()"
   ]
  },
  {
   "cell_type": "code",
   "execution_count": 8,
   "metadata": {},
   "outputs": [
    {
     "name": "stdout",
     "output_type": "stream",
     "text": [
      "[34373, 34374, 34375, 34374, 34373]\n"
     ]
    }
   ],
   "source": [
    "# Пулл процессов\n",
    "from multiprocessing import Pool\n",
    "\n",
    "def getpid(n):\n",
    "    time.sleep(2)\n",
    "    return os.getpid()\n",
    "\n",
    "with Pool(3) as p:\n",
    "    print(p.map(getpid, range(5)))"
   ]
  },
  {
   "cell_type": "code",
   "execution_count": 9,
   "metadata": {},
   "outputs": [
    {
     "name": "stdout",
     "output_type": "stream",
     "text": [
      "read 0\n",
      "read 0\n",
      "read 0\n",
      "write 1\n",
      "write 1\n",
      "read 0\n",
      "write 1\n",
      "read 0\n",
      "write 1\n",
      "write 1\n"
     ]
    }
   ],
   "source": [
    "# Шаринг ресурсов\n",
    "share_memory = {\n",
    "    'count': 0,\n",
    "}\n",
    "def share_memory_task():\n",
    "    print(f'read {share_memory[\"count\"]}')\n",
    "    share_memory['count'] += 1\n",
    "    print(f'write {share_memory[\"count\"]}')\n",
    "\n",
    "tasks = []\n",
    "\n",
    "for _ in range(5):\n",
    "    task = multiprocessing.Process(target=share_memory_task)\n",
    "    tasks.append(task)\n",
    "    task.start()\n",
    "    \n",
    "for task in tasks:\n",
    "    task.join()"
   ]
  },
  {
   "cell_type": "code",
   "execution_count": 10,
   "metadata": {},
   "outputs": [
    {
     "name": "stdout",
     "output_type": "stream",
     "text": [
      "read 0\n",
      "write 1\n",
      "read 0\n",
      "write 1\n",
      "read 1\n",
      "read 1\n",
      "read 2\n",
      "write 2\n",
      "write 2\n",
      "write 3\n",
      "read 3\n",
      "write 4\n",
      "read 4\n",
      "read 4\n",
      "write 5\n",
      "write 5\n",
      "read 5\n",
      "write 6\n",
      "read 5\n",
      "write 6\n",
      "COUNT: 6\n"
     ]
    }
   ],
   "source": [
    "# Шаринг ресурсов через файл\n",
    "filename = 'share_memory.tmp'\n",
    "\n",
    "with open(filename, 'w') as fd:\n",
    "    fd.write('0')\n",
    "\n",
    "def share_memory_task():\n",
    "    with open(filename) as fd:\n",
    "        count = int(fd.read())\n",
    "    print(f'read {count}')\n",
    "\n",
    "    with open(filename, 'w') as fd:\n",
    "        fd.write(str(count + 1))\n",
    "    print(f'write {count + 1}')\n",
    "\n",
    "\n",
    "tasks = []\n",
    "\n",
    "for _ in range(10):\n",
    "    task = multiprocessing.Process(target=share_memory_task)\n",
    "    tasks.append(task)\n",
    "    task.start()\n",
    "    \n",
    "for task in tasks:\n",
    "    task.join()\n",
    "\n",
    "with open(filename) as fd:\n",
    "    print(f'COUNT: {fd.read()}')"
   ]
  },
  {
   "cell_type": "code",
   "execution_count": 11,
   "metadata": {},
   "outputs": [
    {
     "name": "stdout",
     "output_type": "stream",
     "text": [
      "read 0\n",
      "write 1\n",
      "read 1\n",
      "write 2\n",
      "read 2\n",
      "write 3\n",
      "read 3\n",
      "write 4\n",
      "read 4\n",
      "write 5\n",
      "read 5\n",
      "write 6\n",
      "read 6\n",
      "write 7\n",
      "read 7\n",
      "write 8\n",
      "read 8\n",
      "write 9\n",
      "read 9\n",
      "write 10\n",
      "COUNT: 10\n"
     ]
    }
   ],
   "source": [
    "# Шаринг ресурсов через файл с блокировкой\n",
    "filename = 'share_memory.tmp'\n",
    "\n",
    "# TODO исправить ошибку\n",
    "# Ищите помощь в локументации https://docs.python.org/3.6/library/multiprocessing.html\n",
    "\n",
    "\n",
    "with open(filename, 'w') as fd:\n",
    "    fd.write('0')\n",
    "\n",
    "def share_memory_task():\n",
    "    with open(filename) as fd:\n",
    "        count = int(fd.read())\n",
    "    print(f'read {count}')\n",
    "\n",
    "    with open(filename, 'w') as fd:\n",
    "        fd.write(str(count + 1))\n",
    "    print(f'write {count + 1}')\n",
    "\n",
    "\n",
    "tasks = []\n",
    "\n",
    "for _ in range(10):\n",
    "    task = multiprocessing.Process(target=share_memory_task)\n",
    "    tasks.append(task)\n",
    "    task.start()\n",
    "    \n",
    "for task in tasks:\n",
    "    task.join()\n",
    "\n",
    "with open(filename) as fd:\n",
    "    print(f'COUNT: {fd.read()}')"
   ]
  },
  {
   "cell_type": "code",
   "execution_count": 12,
   "metadata": {},
   "outputs": [
    {
     "name": "stdout",
     "output_type": "stream",
     "text": [
      "read 0\n",
      "write 1\n",
      "read 1\n",
      "write 2\n",
      "read 2\n",
      "write 3\n",
      "read 3\n",
      "write 4\n",
      "read 4\n",
      "write 5\n",
      "read 5\n",
      "write 6\n",
      "read 6\n",
      "write 7\n",
      "read 7\n",
      "write 8\n",
      "read 8\n",
      "write 9\n",
      "read 9\n",
      "write 10\n",
      "COUNT: 10\n"
     ]
    }
   ],
   "source": [
    "# Шаринг ресурсов через очередь\n",
    "from multiprocessing import Queue\n",
    "\n",
    "q = Queue()\n",
    "q.put(0)\n",
    "\n",
    "def share_memory_task(q):\n",
    "    count = q.get()\n",
    "    print(f'read {count}')\n",
    "\n",
    "    q.put(count + 1)\n",
    "    print(f'write {count + 1}')\n",
    "\n",
    "\n",
    "tasks = []\n",
    "\n",
    "for _ in range(10):\n",
    "    task = multiprocessing.Process(target=share_memory_task, args=(q,))\n",
    "    tasks.append(task)\n",
    "    task.start()\n",
    "    \n",
    "for task in tasks:\n",
    "    task.join()\n",
    "\n",
    "print(f'COUNT: {q.get()}')"
   ]
  },
  {
   "cell_type": "markdown",
   "metadata": {},
   "source": [
    "# Ассинхронность"
   ]
  },
  {
   "cell_type": "code",
   "execution_count": 13,
   "metadata": {},
   "outputs": [],
   "source": [
    "import asyncio\n",
    "import random\n",
    "import time\n",
    "\n",
    "loop = asyncio.get_event_loop()\n",
    "\n",
    "async def sleep(delay):\n",
    "    await asyncio.sleep(delay)"
   ]
  },
  {
   "cell_type": "code",
   "execution_count": 14,
   "metadata": {},
   "outputs": [],
   "source": [
    "async def io_bound_task(group_name):\n",
    "    print(f'group is \"{group_name}\"')\n",
    "    await sleep(2)\n",
    "    count = random.randint(100, 200)\n",
    "    print(f'count {count}')\n",
    "    return count"
   ]
  },
  {
   "cell_type": "code",
   "execution_count": 15,
   "metadata": {},
   "outputs": [
    {
     "name": "stdout",
     "output_type": "stream",
     "text": [
      "group is \"Amir\"\n",
      "count 155\n",
      "group is \"Zarina\"\n",
      "count 112\n",
      "group is \"Misha\"\n",
      "count 125\n",
      "group is \"Ilya\"\n",
      "count 115\n",
      "group is \"Igor\"\n",
      "count 135\n",
      "COUNT: 642\n",
      "CPU times: user 8 ms, sys: 3.18 ms, total: 11.2 ms\n",
      "Wall time: 10 s\n"
     ]
    }
   ],
   "source": [
    "%%time\n",
    "\n",
    "# Последовательное выполнение\n",
    "async def main():\n",
    "    count = 0\n",
    "    for name in ['Amir', 'Zarina', 'Misha', 'Ilya', 'Igor']:\n",
    "        count += await io_bound_task(name)\n",
    "    print(f'COUNT: {count}')\n",
    "\n",
    "loop.run_until_complete(main())"
   ]
  },
  {
   "cell_type": "code",
   "execution_count": 16,
   "metadata": {},
   "outputs": [
    {
     "name": "stdout",
     "output_type": "stream",
     "text": [
      "group is \"Zarina\"\n",
      "group is \"Amir\"\n",
      "group is \"Igor\"\n",
      "group is \"Ilya\"\n",
      "group is \"Misha\"\n",
      "count 166\n",
      "count 129\n",
      "count 109\n",
      "count 179\n",
      "count 200\n",
      "COUNT: 783\n",
      "CPU times: user 3.1 ms, sys: 895 µs, total: 4 ms\n",
      "Wall time: 2.01 s\n"
     ]
    }
   ],
   "source": [
    "%%time\n",
    "\n",
    "# Совместное выполнение\n",
    "async def main():\n",
    "    tasks = []\n",
    "    count = 0\n",
    "    for name in ['Amir', 'Zarina', 'Misha', 'Ilya', 'Igor']:\n",
    "        tasks.append(io_bound_task(name))\n",
    "        \n",
    "    results = await asyncio.gather(*tasks)\n",
    "    print(f'COUNT: {sum(results)}')\n",
    "\n",
    "loop.run_until_complete(main())"
   ]
  },
  {
   "cell_type": "code",
   "execution_count": 17,
   "metadata": {},
   "outputs": [
    {
     "name": "stdout",
     "output_type": "stream",
     "text": [
      "group is \"Ilya\"\n",
      "count 130\n",
      "group is \"Igor\"\n",
      "count 124\n",
      "group is \"Zarina\"\n",
      "count 177\n",
      "group is \"Misha\"\n",
      "count 117\n",
      "group is \"Amir\"\n",
      "count 160\n",
      "COUNT: 708\n",
      "CPU times: user 6.53 ms, sys: 2.59 ms, total: 9.12 ms\n",
      "Wall time: 10 s\n"
     ]
    }
   ],
   "source": [
    "%%time\n",
    "\n",
    "# Блокирущая операция\n",
    "async def sleep(delay):\n",
    "    time.sleep(delay)\n",
    "\n",
    "loop.run_until_complete(main())"
   ]
  },
  {
   "cell_type": "code",
   "execution_count": 18,
   "metadata": {},
   "outputs": [
    {
     "name": "stdout",
     "output_type": "stream",
     "text": [
      "group is \"Ilya\"\n",
      "group is \"Amir\"\n",
      "group is \"Zarina\"\n",
      "group is \"Igor\"\n",
      "group is \"Misha\"\n",
      "Error\n"
     ]
    }
   ],
   "source": [
    "# Обработка ошибок\n",
    "async def sleep(delay):\n",
    "    await asyncio.sleep(delay)\n",
    "    \n",
    "async def error_task():\n",
    "    raise ValueError \n",
    "    \n",
    "async def main():\n",
    "    tasks = [error_task()]\n",
    "    for name in ['Amir', 'Zarina', 'Misha', 'Ilya', 'Igor']:\n",
    "        tasks.append(io_bound_task(name))\n",
    "        \n",
    "    try:\n",
    "        results = await asyncio.gather(*tasks)\n",
    "    except ValueError:\n",
    "        print('Error')\n",
    "    else:\n",
    "        print(f'COUNT: {sum(results)}')\n",
    "\n",
    "loop.run_until_complete(main())"
   ]
  },
  {
   "cell_type": "code",
   "execution_count": 19,
   "metadata": {},
   "outputs": [
    {
     "name": "stdout",
     "output_type": "stream",
     "text": [
      "group is \"Ilya\"\n",
      "group is \"Misha\"\n",
      "group is \"Zarina\"\n",
      "group is \"Amir\"\n",
      "group is \"Igor\"\n",
      "count 152\n",
      "count 111\n",
      "count 142\n",
      "count 194\n",
      "count 173\n",
      "count 123\n",
      "count 160\n",
      "count 161\n",
      "count 116\n",
      "count 105\n",
      "[ValueError(), 116, 161, 160, 123, 105]\n",
      "COUNT: 105\n"
     ]
    }
   ],
   "source": [
    "# Обработка ошибок\n",
    "async def main():\n",
    "    tasks = [error_task()]\n",
    "    \n",
    "    for name in ['Amir', 'Zarina', 'Misha', 'Ilya', 'Igor']:\n",
    "        tasks.append(io_bound_task(name))\n",
    "        \n",
    "    count = 0\n",
    "    results = await asyncio.gather(*tasks, return_exceptions=True)\n",
    "    # TODO Посчитать сумму участников \n",
    "            \n",
    "    print(f'COUNT: {count}')\n",
    "\n",
    "loop.run_until_complete(main())"
   ]
  },
  {
   "cell_type": "markdown",
   "metadata": {},
   "source": [
    "# Генераторы"
   ]
  },
  {
   "cell_type": "code",
   "execution_count": null,
   "metadata": {},
   "outputs": [],
   "source": []
  }
 ],
 "metadata": {
  "kernelspec": {
   "display_name": "Python 3",
   "language": "python",
   "name": "python3"
  },
  "language_info": {
   "codemirror_mode": {
    "name": "ipython",
    "version": 3
   },
   "file_extension": ".py",
   "mimetype": "text/x-python",
   "name": "python",
   "nbconvert_exporter": "python",
   "pygments_lexer": "ipython3",
   "version": "3.6.4"
  }
 },
 "nbformat": 4,
 "nbformat_minor": 2
}
